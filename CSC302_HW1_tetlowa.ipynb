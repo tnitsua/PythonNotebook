{
  "nbformat": 4,
  "nbformat_minor": 0,
  "metadata": {
    "colab": {
      "name": "CSC302_HW1_tetlowa.ipynb",
      "provenance": [],
      "collapsed_sections": []
    },
    "kernelspec": {
      "name": "python3",
      "display_name": "Python 3"
    },
    "language_info": {
      "name": "python"
    }
  },
  "cells": [
    {
      "cell_type": "markdown",
      "source": [
        "Problem 2:\n",
        "Use pandas to read the olympic_medals.csv from the DATA folder on Google Drive. Then perform the followings by\n",
        "using pandas and/or Python built-in functions.\n",
        "(a) Find the size of the data frame. How many rows, how many columns?\n",
        "(b) Use the appropriate function to report the data types for all columns.\n",
        "(c) Find how many unique locations olympics were held at.\n",
        "(d) Find how many medals the USA team won in total.\n",
        "(e) Find the total number of medals for each Nationality. (Hint: please search for groupby() function with count)"
      ],
      "metadata": {
        "id": "Q2EkRLS0sXcG"
      }
    },
    {
      "cell_type": "code",
      "source": [
        "import csv\n",
        "import pandas as pd\n",
        "import collections\n",
        "\n",
        "with open(\"/content/drive/MyDrive/DATA/olympic_medals.csv\") as f:\n",
        "    reader = csv.DictReader(f)\n",
        "    olympics_data = list(reader)"
      ],
      "metadata": {
        "id": "0CttnqE3snXb"
      },
      "execution_count": 53,
      "outputs": []
    },
    {
      "cell_type": "code",
      "source": [
        "#Problem 2: a)\n",
        "df = pd.read_csv('/content/drive/MyDrive/DATA/olympic_medals.csv')\n",
        "\n",
        "#display dataframe\n",
        "df.info()"
      ],
      "metadata": {
        "colab": {
          "base_uri": "https://localhost:8080/"
        },
        "id": "9WEvL9Yms8TI",
        "outputId": "8c0c02b5-972d-4141-bb3b-d032842c1a7c"
      },
      "execution_count": 57,
      "outputs": [
        {
          "output_type": "stream",
          "name": "stdout",
          "text": [
            "<class 'pandas.core.frame.DataFrame'>\n",
            "RangeIndex: 2394 entries, 0 to 2393\n",
            "Data columns (total 8 columns):\n",
            " #   Column       Non-Null Count  Dtype \n",
            "---  ------       --------------  ----- \n",
            " 0   Gender       2394 non-null   object\n",
            " 1   Event        2394 non-null   object\n",
            " 2   Location     2394 non-null   object\n",
            " 3   Year         2394 non-null   int64 \n",
            " 4   Medal        2394 non-null   object\n",
            " 5   Name         2164 non-null   object\n",
            " 6   Nationality  2394 non-null   object\n",
            " 7   Result       2394 non-null   object\n",
            "dtypes: int64(1), object(7)\n",
            "memory usage: 149.8+ KB\n"
          ]
        }
      ]
    },
    {
      "cell_type": "code",
      "source": [
        "#display number of rows & columns (rows, columns)\n",
        "df.shape"
      ],
      "metadata": {
        "colab": {
          "base_uri": "https://localhost:8080/"
        },
        "id": "fajSzUHMDIJT",
        "outputId": "4593bf31-9e94-4a3f-8f33-8ec893931ea4"
      },
      "execution_count": 58,
      "outputs": [
        {
          "output_type": "execute_result",
          "data": {
            "text/plain": [
              "(2394, 8)"
            ]
          },
          "metadata": {},
          "execution_count": 58
        }
      ]
    },
    {
      "cell_type": "code",
      "source": [
        "#b)\n",
        "#show datatypes for all columns\n",
        "dataTypes = df.dtypes\n",
        "print(dataTypes)"
      ],
      "metadata": {
        "colab": {
          "base_uri": "https://localhost:8080/"
        },
        "id": "vSlBntC2vQY2",
        "outputId": "16327239-d698-4811-84a7-fc1089abcb5a"
      },
      "execution_count": 56,
      "outputs": [
        {
          "output_type": "stream",
          "name": "stdout",
          "text": [
            "Gender         object\n",
            "Event          object\n",
            "Location       object\n",
            "Year            int64\n",
            "Medal          object\n",
            "Name           object\n",
            "Nationality    object\n",
            "Result         object\n",
            "dtype: object\n"
          ]
        }
      ]
    },
    {
      "cell_type": "code",
      "source": [
        "#c)\n",
        "#count unique locations in column 'Location'\n",
        "uniqueLocations = df['Location'].nunique()\n",
        "\n",
        "#display number of unique locations\n",
        "print(uniqueLocations)"
      ],
      "metadata": {
        "colab": {
          "base_uri": "https://localhost:8080/"
        },
        "id": "H11kn4UJvzzt",
        "outputId": "26f7ffea-c7af-4d7f-e050-6e1ff1561a87"
      },
      "execution_count": 16,
      "outputs": [
        {
          "output_type": "stream",
          "name": "stdout",
          "text": [
            "23\n"
          ]
        }
      ]
    },
    {
      "cell_type": "code",
      "source": [
        "#d)\n",
        "#total number of medals\n",
        "print(df['Medal'].count())"
      ],
      "metadata": {
        "colab": {
          "base_uri": "https://localhost:8080/"
        },
        "id": "SEJJYuKAxHCz",
        "outputId": "96345f9b-89c4-4e23-f1c6-5803af20e3fa"
      },
      "execution_count": 38,
      "outputs": [
        {
          "output_type": "stream",
          "name": "stdout",
          "text": [
            "2394\n"
          ]
        }
      ]
    },
    {
      "cell_type": "code",
      "source": [
        "#e)\n",
        "#show medal count by nationality\n",
        "df.groupby(['Nationality'])['Medal'].count()"
      ],
      "metadata": {
        "colab": {
          "base_uri": "https://localhost:8080/"
        },
        "id": "eQ-ZK3G66LYv",
        "outputId": "2e773dc7-c979-4576-d8d2-834cea6aa946"
      },
      "execution_count": 41,
      "outputs": [
        {
          "output_type": "execute_result",
          "data": {
            "text/plain": [
              "Nationality\n",
              "ALG      9\n",
              "ARG      4\n",
              "AUS     57\n",
              "AUT      4\n",
              "BAH     12\n",
              "      ... \n",
              "URS    131\n",
              "USA    638\n",
              "VEN      2\n",
              "YUG      1\n",
              "ZAM      1\n",
              "Name: Medal, Length: 97, dtype: int64"
            ]
          },
          "metadata": {},
          "execution_count": 41
        }
      ]
    },
    {
      "cell_type": "markdown",
      "source": [
        "Problem 3:\n",
        "Use pandas to read the causes_of_death.csv from the DATA folder on Google Drive. Then perform the followings\n",
        "by using pandas and/or Python built-in functions.\n",
        "(a) Find the size of the data frame. How many rows, how many columns?\n",
        "(b) What is the average death count across the country?\n",
        "(c) What is the total death count for each state. (Hint: please search for groupby() function with sum)\n",
        "(d) What is the average death count for each state. (Hint: please search for groupby() function with mean)\n",
        "(e) What is the total death count for males and females in each state. (Hint: groupby() function with sum, but you\n",
        "will have two attributes/columns for the groupby() )\n",
        "(f) Drop your rows which have NA in it. Then verify it by using head() to show they are removed. (Hint: dropna())\n",
        "(g) Create a column called ratio and assign the ratio of death counts to population to fill its values. Then verify it\n",
        "by using head().\n",
        "(h) Select only rows where Ten-Year Age Groups Code is equal to 1. Notice that this column has string data type.\n",
        "(i) Use the selected rows above (you can either assign to another variable or keep using dot(.) operator) to chain\n",
        "with other functions (groupby, sum, sort_values) to view your data sorted from the highest Crude rate to\n",
        "the smallest. This will show the infant mortality rate for all states."
      ],
      "metadata": {
        "id": "_i4J4lgG9PQS"
      }
    },
    {
      "cell_type": "code",
      "source": [
        "with open(\"/content/drive/MyDrive/DATA/causes_of_death.csv\") as g:\n",
        "    reader = csv.DictReader(g)\n",
        "    death_data = list(reader)\n",
        "\n",
        "df1 = pd.read_csv('/content/drive/MyDrive/DATA/causes_of_death.csv')"
      ],
      "metadata": {
        "id": "bniRalhX9VfN"
      },
      "execution_count": 43,
      "outputs": []
    },
    {
      "cell_type": "code",
      "source": [
        "#Problem 3:\n",
        "#a)\n",
        "#display dataframe info\n",
        "df1.info()"
      ],
      "metadata": {
        "colab": {
          "base_uri": "https://localhost:8080/"
        },
        "id": "toWQKTqU-Wq7",
        "outputId": "185803f8-2d31-4b3d-e5b3-ca92d2061cef"
      },
      "execution_count": 47,
      "outputs": [
        {
          "output_type": "stream",
          "name": "stdout",
          "text": [
            "<class 'pandas.core.frame.DataFrame'>\n",
            "RangeIndex: 4115 entries, 0 to 4114\n",
            "Data columns (total 11 columns):\n",
            " #   Column                    Non-Null Count  Dtype  \n",
            "---  ------                    --------------  -----  \n",
            " 0   State                     4115 non-null   object \n",
            " 1   State Code                4115 non-null   int64  \n",
            " 2   Ten-Year Age Groups       4115 non-null   object \n",
            " 3   Ten-Year Age Groups Code  4115 non-null   object \n",
            " 4   Gender                    4115 non-null   object \n",
            " 5   Gender Code               4115 non-null   object \n",
            " 6   Race                      4115 non-null   object \n",
            " 7   Race Code                 4115 non-null   object \n",
            " 8   Deaths                    4115 non-null   int64  \n",
            " 9   Population                4040 non-null   float64\n",
            " 10  Crude Rate                3765 non-null   float64\n",
            "dtypes: float64(2), int64(2), object(7)\n",
            "memory usage: 353.8+ KB\n"
          ]
        }
      ]
    },
    {
      "cell_type": "code",
      "source": [
        "#display number of rows & columns (rows, columns)\n",
        "df1.shape"
      ],
      "metadata": {
        "colab": {
          "base_uri": "https://localhost:8080/"
        },
        "id": "LbSrqZi3-1r1",
        "outputId": "b5ee7707-1af5-4e5b-93e1-0bbdab870269"
      },
      "execution_count": 48,
      "outputs": [
        {
          "output_type": "execute_result",
          "data": {
            "text/plain": [
              "(4115, 11)"
            ]
          },
          "metadata": {},
          "execution_count": 48
        }
      ]
    },
    {
      "cell_type": "code",
      "source": [
        "#b)\n",
        "#display the average death count across the country\n",
        "df1['Deaths'].mean()"
      ],
      "metadata": {
        "colab": {
          "base_uri": "https://localhost:8080/"
        },
        "id": "sAZrp2d_Ba3v",
        "outputId": "2f646d89-d8bc-4dfe-a47b-109cef5ce0b4"
      },
      "execution_count": 49,
      "outputs": [
        {
          "output_type": "execute_result",
          "data": {
            "text/plain": [
              "10914.44957472661"
            ]
          },
          "metadata": {},
          "execution_count": 49
        }
      ]
    },
    {
      "cell_type": "code",
      "source": [
        "#c)\n",
        "#display total death count by state\n",
        "df1.groupby(['State'])['Deaths'].sum()"
      ],
      "metadata": {
        "colab": {
          "base_uri": "https://localhost:8080/"
        },
        "id": "XMYlOibVBqJi",
        "outputId": "0b80a5c1-2cc1-4057-8bf7-8d5d6c32565d"
      },
      "execution_count": 50,
      "outputs": [
        {
          "output_type": "execute_result",
          "data": {
            "text/plain": [
              "State\n",
              "Alabama                  860780\n",
              "Alaska                    63334\n",
              "Arizona                  838094\n",
              "Arkansas                 522914\n",
              "California              4307061\n",
              "Colorado                 561283\n",
              "Connecticut              531290\n",
              "Delaware                 135933\n",
              "District of Columbia      94073\n",
              "Florida                 3131111\n",
              "Georgia                 1259017\n",
              "Hawaii                   172244\n",
              "Idaho                    200077\n",
              "Illinois                1872171\n",
              "Indiana                 1031634\n",
              "Iowa                     507247\n",
              "Kansas                   448828\n",
              "Kentucky                 752585\n",
              "Louisiana                755914\n",
              "Maine                    231756\n",
              "Maryland                 800510\n",
              "Massachusetts            987031\n",
              "Michigan                1599942\n",
              "Minnesota                702284\n",
              "Mississippi              526127\n",
              "Missouri                1008288\n",
              "Montana                  158429\n",
              "Nebraska                 277962\n",
              "Nevada                   345245\n",
              "New Hampshire            187917\n",
              "New Jersey              1291554\n",
              "New Mexico               281598\n",
              "New York                2741575\n",
              "North Carolina          1399009\n",
              "North Dakota             107281\n",
              "Ohio                    1987276\n",
              "Oklahoma                 656535\n",
              "Oregon                   575952\n",
              "Pennsylvania            2313855\n",
              "Rhode Island             176266\n",
              "South Carolina           732571\n",
              "South Dakota             128599\n",
              "Tennessee               1066727\n",
              "Texas                   2969214\n",
              "Utah                     260479\n",
              "Vermont                   95300\n",
              "Virginia                1071163\n",
              "Washington               865686\n",
              "West Virginia            386224\n",
              "Wisconsin                857629\n",
              "Wyoming                   77386\n",
              "Name: Deaths, dtype: int64"
            ]
          },
          "metadata": {},
          "execution_count": 50
        }
      ]
    },
    {
      "cell_type": "code",
      "source": [
        "#d)\n",
        "#display average death count by state\n",
        "df1.groupby(['State'])['Deaths'].mean()"
      ],
      "metadata": {
        "colab": {
          "base_uri": "https://localhost:8080/"
        },
        "id": "eNHqAsj9DUxq",
        "outputId": "ac9b6408-c1a6-4218-a7c9-3eed6c25b86e"
      },
      "execution_count": 59,
      "outputs": [
        {
          "output_type": "execute_result",
          "data": {
            "text/plain": [
              "State\n",
              "Alabama                 10626.913580\n",
              "Alaska                    772.365854\n",
              "Arizona                  9109.717391\n",
              "Arkansas                 6455.728395\n",
              "California              45819.797872\n",
              "Colorado                 6378.215909\n",
              "Connecticut              6559.135802\n",
              "Delaware                 1970.043478\n",
              "District of Columbia     1447.276923\n",
              "Florida                 34790.122222\n",
              "Georgia                 14639.732558\n",
              "Hawaii                   2266.368421\n",
              "Idaho                    2778.847222\n",
              "Illinois                21519.206897\n",
              "Indiana                 12895.425000\n",
              "Iowa                     6185.939024\n",
              "Kansas                   5407.566265\n",
              "Kentucky                 9902.434211\n",
              "Louisiana                9107.397590\n",
              "Maine                    3310.800000\n",
              "Maryland                 9201.264368\n",
              "Massachusetts           12185.567901\n",
              "Michigan                17976.876404\n",
              "Minnesota                7980.500000\n",
              "Mississippi              6117.755814\n",
              "Missouri                11862.211765\n",
              "Montana                  2200.402778\n",
              "Nebraska                 3474.525000\n",
              "Nevada                   4014.476744\n",
              "New Hampshire            3030.919355\n",
              "New Jersey              15375.642857\n",
              "New Mexico               3236.758621\n",
              "New York                29799.728261\n",
              "North Carolina          15373.725275\n",
              "North Dakota             1650.476923\n",
              "Ohio                    24534.271605\n",
              "Oklahoma                 7376.797753\n",
              "Oregon                   6544.909091\n",
              "Pennsylvania            27221.823529\n",
              "Rhode Island             2448.138889\n",
              "South Carolina           9044.086420\n",
              "South Dakota             1863.753623\n",
              "Tennessee               13169.469136\n",
              "Texas                   32991.266667\n",
              "Utah                     3028.825581\n",
              "Vermont                  1944.897959\n",
              "Virginia                12601.917647\n",
              "Washington               9726.808989\n",
              "West Virginia            6229.419355\n",
              "Wisconsin                9745.784091\n",
              "Wyoming                  1155.014925\n",
              "Name: Deaths, dtype: float64"
            ]
          },
          "metadata": {},
          "execution_count": 59
        }
      ]
    },
    {
      "cell_type": "code",
      "source": [
        "#e)\n",
        "#total death count for males and females by state\n",
        "df1.groupby(['State', 'Gender'])['Deaths'].sum()"
      ],
      "metadata": {
        "colab": {
          "base_uri": "https://localhost:8080/"
        },
        "id": "ATCYaZZ0EDKM",
        "outputId": "4754ba15-0162-4820-9071-eecca577eddc"
      },
      "execution_count": 62,
      "outputs": [
        {
          "output_type": "execute_result",
          "data": {
            "text/plain": [
              "State          Gender\n",
              "Alabama        Female    430133\n",
              "               Male      430647\n",
              "Alaska         Female     27199\n",
              "               Male       36135\n",
              "Arizona        Female    396028\n",
              "                          ...  \n",
              "West Virginia  Male      192560\n",
              "Wisconsin      Female    436397\n",
              "               Male      421232\n",
              "Wyoming        Female     37153\n",
              "               Male       40233\n",
              "Name: Deaths, Length: 102, dtype: int64"
            ]
          },
          "metadata": {},
          "execution_count": 62
        }
      ]
    },
    {
      "cell_type": "code",
      "source": [
        "#f)\n",
        "#drop rows with NA in it\n",
        "df1.dropna()\n",
        "df1.head()"
      ],
      "metadata": {
        "colab": {
          "base_uri": "https://localhost:8080/",
          "height": 285
        },
        "id": "kBorNJtnFh0o",
        "outputId": "4c9562c9-6fe1-4197-aae6-88d3251bbb47"
      },
      "execution_count": 65,
      "outputs": [
        {
          "output_type": "execute_result",
          "data": {
            "text/html": [
              "\n",
              "  <div id=\"df-2f8b821d-b78c-4d9e-ae64-34ba63819ea5\">\n",
              "    <div class=\"colab-df-container\">\n",
              "      <div>\n",
              "<style scoped>\n",
              "    .dataframe tbody tr th:only-of-type {\n",
              "        vertical-align: middle;\n",
              "    }\n",
              "\n",
              "    .dataframe tbody tr th {\n",
              "        vertical-align: top;\n",
              "    }\n",
              "\n",
              "    .dataframe thead th {\n",
              "        text-align: right;\n",
              "    }\n",
              "</style>\n",
              "<table border=\"1\" class=\"dataframe\">\n",
              "  <thead>\n",
              "    <tr style=\"text-align: right;\">\n",
              "      <th></th>\n",
              "      <th>State</th>\n",
              "      <th>State Code</th>\n",
              "      <th>Ten-Year Age Groups</th>\n",
              "      <th>Ten-Year Age Groups Code</th>\n",
              "      <th>Gender</th>\n",
              "      <th>Gender Code</th>\n",
              "      <th>Race</th>\n",
              "      <th>Race Code</th>\n",
              "      <th>Deaths</th>\n",
              "      <th>Population</th>\n",
              "      <th>Crude Rate</th>\n",
              "    </tr>\n",
              "  </thead>\n",
              "  <tbody>\n",
              "    <tr>\n",
              "      <th>0</th>\n",
              "      <td>Alabama</td>\n",
              "      <td>1</td>\n",
              "      <td>&lt; 1 year</td>\n",
              "      <td>1</td>\n",
              "      <td>Female</td>\n",
              "      <td>F</td>\n",
              "      <td>American Indian or Alaska Native</td>\n",
              "      <td>1002-5</td>\n",
              "      <td>14</td>\n",
              "      <td>3579.0</td>\n",
              "      <td>NaN</td>\n",
              "    </tr>\n",
              "    <tr>\n",
              "      <th>1</th>\n",
              "      <td>Alabama</td>\n",
              "      <td>1</td>\n",
              "      <td>&lt; 1 year</td>\n",
              "      <td>1</td>\n",
              "      <td>Female</td>\n",
              "      <td>F</td>\n",
              "      <td>Asian or Pacific Islander</td>\n",
              "      <td>A-PI</td>\n",
              "      <td>24</td>\n",
              "      <td>7443.0</td>\n",
              "      <td>322.5</td>\n",
              "    </tr>\n",
              "    <tr>\n",
              "      <th>2</th>\n",
              "      <td>Alabama</td>\n",
              "      <td>1</td>\n",
              "      <td>&lt; 1 year</td>\n",
              "      <td>1</td>\n",
              "      <td>Female</td>\n",
              "      <td>F</td>\n",
              "      <td>Black or African American</td>\n",
              "      <td>2054-5</td>\n",
              "      <td>2093</td>\n",
              "      <td>169339.0</td>\n",
              "      <td>1236.0</td>\n",
              "    </tr>\n",
              "    <tr>\n",
              "      <th>3</th>\n",
              "      <td>Alabama</td>\n",
              "      <td>1</td>\n",
              "      <td>&lt; 1 year</td>\n",
              "      <td>1</td>\n",
              "      <td>Female</td>\n",
              "      <td>F</td>\n",
              "      <td>White</td>\n",
              "      <td>2106-3</td>\n",
              "      <td>2144</td>\n",
              "      <td>347921.0</td>\n",
              "      <td>616.2</td>\n",
              "    </tr>\n",
              "    <tr>\n",
              "      <th>4</th>\n",
              "      <td>Alabama</td>\n",
              "      <td>1</td>\n",
              "      <td>&lt; 1 year</td>\n",
              "      <td>1</td>\n",
              "      <td>Male</td>\n",
              "      <td>M</td>\n",
              "      <td>Asian or Pacific Islander</td>\n",
              "      <td>A-PI</td>\n",
              "      <td>33</td>\n",
              "      <td>7366.0</td>\n",
              "      <td>448.0</td>\n",
              "    </tr>\n",
              "  </tbody>\n",
              "</table>\n",
              "</div>\n",
              "      <button class=\"colab-df-convert\" onclick=\"convertToInteractive('df-2f8b821d-b78c-4d9e-ae64-34ba63819ea5')\"\n",
              "              title=\"Convert this dataframe to an interactive table.\"\n",
              "              style=\"display:none;\">\n",
              "        \n",
              "  <svg xmlns=\"http://www.w3.org/2000/svg\" height=\"24px\"viewBox=\"0 0 24 24\"\n",
              "       width=\"24px\">\n",
              "    <path d=\"M0 0h24v24H0V0z\" fill=\"none\"/>\n",
              "    <path d=\"M18.56 5.44l.94 2.06.94-2.06 2.06-.94-2.06-.94-.94-2.06-.94 2.06-2.06.94zm-11 1L8.5 8.5l.94-2.06 2.06-.94-2.06-.94L8.5 2.5l-.94 2.06-2.06.94zm10 10l.94 2.06.94-2.06 2.06-.94-2.06-.94-.94-2.06-.94 2.06-2.06.94z\"/><path d=\"M17.41 7.96l-1.37-1.37c-.4-.4-.92-.59-1.43-.59-.52 0-1.04.2-1.43.59L10.3 9.45l-7.72 7.72c-.78.78-.78 2.05 0 2.83L4 21.41c.39.39.9.59 1.41.59.51 0 1.02-.2 1.41-.59l7.78-7.78 2.81-2.81c.8-.78.8-2.07 0-2.86zM5.41 20L4 18.59l7.72-7.72 1.47 1.35L5.41 20z\"/>\n",
              "  </svg>\n",
              "      </button>\n",
              "      \n",
              "  <style>\n",
              "    .colab-df-container {\n",
              "      display:flex;\n",
              "      flex-wrap:wrap;\n",
              "      gap: 12px;\n",
              "    }\n",
              "\n",
              "    .colab-df-convert {\n",
              "      background-color: #E8F0FE;\n",
              "      border: none;\n",
              "      border-radius: 50%;\n",
              "      cursor: pointer;\n",
              "      display: none;\n",
              "      fill: #1967D2;\n",
              "      height: 32px;\n",
              "      padding: 0 0 0 0;\n",
              "      width: 32px;\n",
              "    }\n",
              "\n",
              "    .colab-df-convert:hover {\n",
              "      background-color: #E2EBFA;\n",
              "      box-shadow: 0px 1px 2px rgba(60, 64, 67, 0.3), 0px 1px 3px 1px rgba(60, 64, 67, 0.15);\n",
              "      fill: #174EA6;\n",
              "    }\n",
              "\n",
              "    [theme=dark] .colab-df-convert {\n",
              "      background-color: #3B4455;\n",
              "      fill: #D2E3FC;\n",
              "    }\n",
              "\n",
              "    [theme=dark] .colab-df-convert:hover {\n",
              "      background-color: #434B5C;\n",
              "      box-shadow: 0px 1px 3px 1px rgba(0, 0, 0, 0.15);\n",
              "      filter: drop-shadow(0px 1px 2px rgba(0, 0, 0, 0.3));\n",
              "      fill: #FFFFFF;\n",
              "    }\n",
              "  </style>\n",
              "\n",
              "      <script>\n",
              "        const buttonEl =\n",
              "          document.querySelector('#df-2f8b821d-b78c-4d9e-ae64-34ba63819ea5 button.colab-df-convert');\n",
              "        buttonEl.style.display =\n",
              "          google.colab.kernel.accessAllowed ? 'block' : 'none';\n",
              "\n",
              "        async function convertToInteractive(key) {\n",
              "          const element = document.querySelector('#df-2f8b821d-b78c-4d9e-ae64-34ba63819ea5');\n",
              "          const dataTable =\n",
              "            await google.colab.kernel.invokeFunction('convertToInteractive',\n",
              "                                                     [key], {});\n",
              "          if (!dataTable) return;\n",
              "\n",
              "          const docLinkHtml = 'Like what you see? Visit the ' +\n",
              "            '<a target=\"_blank\" href=https://colab.research.google.com/notebooks/data_table.ipynb>data table notebook</a>'\n",
              "            + ' to learn more about interactive tables.';\n",
              "          element.innerHTML = '';\n",
              "          dataTable['output_type'] = 'display_data';\n",
              "          await google.colab.output.renderOutput(dataTable, element);\n",
              "          const docLink = document.createElement('div');\n",
              "          docLink.innerHTML = docLinkHtml;\n",
              "          element.appendChild(docLink);\n",
              "        }\n",
              "      </script>\n",
              "    </div>\n",
              "  </div>\n",
              "  "
            ],
            "text/plain": [
              "     State  State Code Ten-Year Age Groups  ... Deaths Population Crude Rate\n",
              "0  Alabama           1            < 1 year  ...     14     3579.0        NaN\n",
              "1  Alabama           1            < 1 year  ...     24     7443.0      322.5\n",
              "2  Alabama           1            < 1 year  ...   2093   169339.0     1236.0\n",
              "3  Alabama           1            < 1 year  ...   2144   347921.0      616.2\n",
              "4  Alabama           1            < 1 year  ...     33     7366.0      448.0\n",
              "\n",
              "[5 rows x 11 columns]"
            ]
          },
          "metadata": {},
          "execution_count": 65
        }
      ]
    },
    {
      "cell_type": "code",
      "source": [
        "#g)\n",
        "#Create a column called ratio and assign the ratio of death counts to population to fill its values. Then verify it by using head()\n",
        "\n",
        "df1['Ratio'] = df1['Deaths'] / df1['Population']\n",
        "df1.head()\n"
      ],
      "metadata": {
        "colab": {
          "base_uri": "https://localhost:8080/",
          "height": 337
        },
        "id": "1W7Nvt8BGVhb",
        "outputId": "74eed344-4f8f-46dc-f007-686506541660"
      },
      "execution_count": 70,
      "outputs": [
        {
          "output_type": "execute_result",
          "data": {
            "text/html": [
              "\n",
              "  <div id=\"df-5202c4f9-e4df-431f-a8e1-b7f7e4420014\">\n",
              "    <div class=\"colab-df-container\">\n",
              "      <div>\n",
              "<style scoped>\n",
              "    .dataframe tbody tr th:only-of-type {\n",
              "        vertical-align: middle;\n",
              "    }\n",
              "\n",
              "    .dataframe tbody tr th {\n",
              "        vertical-align: top;\n",
              "    }\n",
              "\n",
              "    .dataframe thead th {\n",
              "        text-align: right;\n",
              "    }\n",
              "</style>\n",
              "<table border=\"1\" class=\"dataframe\">\n",
              "  <thead>\n",
              "    <tr style=\"text-align: right;\">\n",
              "      <th></th>\n",
              "      <th>State</th>\n",
              "      <th>State Code</th>\n",
              "      <th>Ten-Year Age Groups</th>\n",
              "      <th>Ten-Year Age Groups Code</th>\n",
              "      <th>Gender</th>\n",
              "      <th>Gender Code</th>\n",
              "      <th>Race</th>\n",
              "      <th>Race Code</th>\n",
              "      <th>Deaths</th>\n",
              "      <th>Population</th>\n",
              "      <th>Crude Rate</th>\n",
              "      <th>Ratio</th>\n",
              "    </tr>\n",
              "  </thead>\n",
              "  <tbody>\n",
              "    <tr>\n",
              "      <th>0</th>\n",
              "      <td>Alabama</td>\n",
              "      <td>1</td>\n",
              "      <td>&lt; 1 year</td>\n",
              "      <td>1</td>\n",
              "      <td>Female</td>\n",
              "      <td>F</td>\n",
              "      <td>American Indian or Alaska Native</td>\n",
              "      <td>1002-5</td>\n",
              "      <td>14</td>\n",
              "      <td>3579.0</td>\n",
              "      <td>NaN</td>\n",
              "      <td>0.003912</td>\n",
              "    </tr>\n",
              "    <tr>\n",
              "      <th>1</th>\n",
              "      <td>Alabama</td>\n",
              "      <td>1</td>\n",
              "      <td>&lt; 1 year</td>\n",
              "      <td>1</td>\n",
              "      <td>Female</td>\n",
              "      <td>F</td>\n",
              "      <td>Asian or Pacific Islander</td>\n",
              "      <td>A-PI</td>\n",
              "      <td>24</td>\n",
              "      <td>7443.0</td>\n",
              "      <td>322.5</td>\n",
              "      <td>0.003225</td>\n",
              "    </tr>\n",
              "    <tr>\n",
              "      <th>2</th>\n",
              "      <td>Alabama</td>\n",
              "      <td>1</td>\n",
              "      <td>&lt; 1 year</td>\n",
              "      <td>1</td>\n",
              "      <td>Female</td>\n",
              "      <td>F</td>\n",
              "      <td>Black or African American</td>\n",
              "      <td>2054-5</td>\n",
              "      <td>2093</td>\n",
              "      <td>169339.0</td>\n",
              "      <td>1236.0</td>\n",
              "      <td>0.012360</td>\n",
              "    </tr>\n",
              "    <tr>\n",
              "      <th>3</th>\n",
              "      <td>Alabama</td>\n",
              "      <td>1</td>\n",
              "      <td>&lt; 1 year</td>\n",
              "      <td>1</td>\n",
              "      <td>Female</td>\n",
              "      <td>F</td>\n",
              "      <td>White</td>\n",
              "      <td>2106-3</td>\n",
              "      <td>2144</td>\n",
              "      <td>347921.0</td>\n",
              "      <td>616.2</td>\n",
              "      <td>0.006162</td>\n",
              "    </tr>\n",
              "    <tr>\n",
              "      <th>4</th>\n",
              "      <td>Alabama</td>\n",
              "      <td>1</td>\n",
              "      <td>&lt; 1 year</td>\n",
              "      <td>1</td>\n",
              "      <td>Male</td>\n",
              "      <td>M</td>\n",
              "      <td>Asian or Pacific Islander</td>\n",
              "      <td>A-PI</td>\n",
              "      <td>33</td>\n",
              "      <td>7366.0</td>\n",
              "      <td>448.0</td>\n",
              "      <td>0.004480</td>\n",
              "    </tr>\n",
              "  </tbody>\n",
              "</table>\n",
              "</div>\n",
              "      <button class=\"colab-df-convert\" onclick=\"convertToInteractive('df-5202c4f9-e4df-431f-a8e1-b7f7e4420014')\"\n",
              "              title=\"Convert this dataframe to an interactive table.\"\n",
              "              style=\"display:none;\">\n",
              "        \n",
              "  <svg xmlns=\"http://www.w3.org/2000/svg\" height=\"24px\"viewBox=\"0 0 24 24\"\n",
              "       width=\"24px\">\n",
              "    <path d=\"M0 0h24v24H0V0z\" fill=\"none\"/>\n",
              "    <path d=\"M18.56 5.44l.94 2.06.94-2.06 2.06-.94-2.06-.94-.94-2.06-.94 2.06-2.06.94zm-11 1L8.5 8.5l.94-2.06 2.06-.94-2.06-.94L8.5 2.5l-.94 2.06-2.06.94zm10 10l.94 2.06.94-2.06 2.06-.94-2.06-.94-.94-2.06-.94 2.06-2.06.94z\"/><path d=\"M17.41 7.96l-1.37-1.37c-.4-.4-.92-.59-1.43-.59-.52 0-1.04.2-1.43.59L10.3 9.45l-7.72 7.72c-.78.78-.78 2.05 0 2.83L4 21.41c.39.39.9.59 1.41.59.51 0 1.02-.2 1.41-.59l7.78-7.78 2.81-2.81c.8-.78.8-2.07 0-2.86zM5.41 20L4 18.59l7.72-7.72 1.47 1.35L5.41 20z\"/>\n",
              "  </svg>\n",
              "      </button>\n",
              "      \n",
              "  <style>\n",
              "    .colab-df-container {\n",
              "      display:flex;\n",
              "      flex-wrap:wrap;\n",
              "      gap: 12px;\n",
              "    }\n",
              "\n",
              "    .colab-df-convert {\n",
              "      background-color: #E8F0FE;\n",
              "      border: none;\n",
              "      border-radius: 50%;\n",
              "      cursor: pointer;\n",
              "      display: none;\n",
              "      fill: #1967D2;\n",
              "      height: 32px;\n",
              "      padding: 0 0 0 0;\n",
              "      width: 32px;\n",
              "    }\n",
              "\n",
              "    .colab-df-convert:hover {\n",
              "      background-color: #E2EBFA;\n",
              "      box-shadow: 0px 1px 2px rgba(60, 64, 67, 0.3), 0px 1px 3px 1px rgba(60, 64, 67, 0.15);\n",
              "      fill: #174EA6;\n",
              "    }\n",
              "\n",
              "    [theme=dark] .colab-df-convert {\n",
              "      background-color: #3B4455;\n",
              "      fill: #D2E3FC;\n",
              "    }\n",
              "\n",
              "    [theme=dark] .colab-df-convert:hover {\n",
              "      background-color: #434B5C;\n",
              "      box-shadow: 0px 1px 3px 1px rgba(0, 0, 0, 0.15);\n",
              "      filter: drop-shadow(0px 1px 2px rgba(0, 0, 0, 0.3));\n",
              "      fill: #FFFFFF;\n",
              "    }\n",
              "  </style>\n",
              "\n",
              "      <script>\n",
              "        const buttonEl =\n",
              "          document.querySelector('#df-5202c4f9-e4df-431f-a8e1-b7f7e4420014 button.colab-df-convert');\n",
              "        buttonEl.style.display =\n",
              "          google.colab.kernel.accessAllowed ? 'block' : 'none';\n",
              "\n",
              "        async function convertToInteractive(key) {\n",
              "          const element = document.querySelector('#df-5202c4f9-e4df-431f-a8e1-b7f7e4420014');\n",
              "          const dataTable =\n",
              "            await google.colab.kernel.invokeFunction('convertToInteractive',\n",
              "                                                     [key], {});\n",
              "          if (!dataTable) return;\n",
              "\n",
              "          const docLinkHtml = 'Like what you see? Visit the ' +\n",
              "            '<a target=\"_blank\" href=https://colab.research.google.com/notebooks/data_table.ipynb>data table notebook</a>'\n",
              "            + ' to learn more about interactive tables.';\n",
              "          element.innerHTML = '';\n",
              "          dataTable['output_type'] = 'display_data';\n",
              "          await google.colab.output.renderOutput(dataTable, element);\n",
              "          const docLink = document.createElement('div');\n",
              "          docLink.innerHTML = docLinkHtml;\n",
              "          element.appendChild(docLink);\n",
              "        }\n",
              "      </script>\n",
              "    </div>\n",
              "  </div>\n",
              "  "
            ],
            "text/plain": [
              "     State  State Code Ten-Year Age Groups  ... Population Crude Rate     Ratio\n",
              "0  Alabama           1            < 1 year  ...     3579.0        NaN  0.003912\n",
              "1  Alabama           1            < 1 year  ...     7443.0      322.5  0.003225\n",
              "2  Alabama           1            < 1 year  ...   169339.0     1236.0  0.012360\n",
              "3  Alabama           1            < 1 year  ...   347921.0      616.2  0.006162\n",
              "4  Alabama           1            < 1 year  ...     7366.0      448.0  0.004480\n",
              "\n",
              "[5 rows x 12 columns]"
            ]
          },
          "metadata": {},
          "execution_count": 70
        }
      ]
    },
    {
      "cell_type": "code",
      "source": [
        "#h)\n",
        "#Select only rows where Ten-Year Age Groups Code is equal to 1.\n",
        "df1.loc[df1['Ten-Year Age Groups Code'] == 1]"
      ],
      "metadata": {
        "id": "9zbAa5qdRrz4"
      },
      "execution_count": null,
      "outputs": []
    },
    {
      "cell_type": "code",
      "source": [
        "#i)\n",
        "#Use the selected rows above (you can either assign to another variable or keep using dot(.) operator) \n",
        "#to chain with other functions (groupby, sum, sort_values) to view your data sorted from the highest \n",
        "#Crude rate to the smallest. This will show the infant mortality rate for all states\n",
        "\n",
        "df1.sort_values(by='Crude Rate', ascending = False)"
      ],
      "metadata": {
        "id": "wPRaWoQeTaLm"
      },
      "execution_count": null,
      "outputs": []
    }
  ]
}